{
 "cells": [
  {
   "cell_type": "code",
   "execution_count": null,
   "id": "1a81c1c1-4e0a-4444-93a4-f10e52445fcd",
   "metadata": {},
   "outputs": [],
   "source": []
  }
 ],
 "metadata": {
  "kernelspec": {
   "display_name": "",
   "name": ""
  },
  "language_info": {
   "name": ""
  }
 },
 "nbformat": 4,
 "nbformat_minor": 5
}
